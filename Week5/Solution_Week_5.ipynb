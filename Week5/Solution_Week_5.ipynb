{
 "cells": [
  {
   "cell_type": "code",
   "execution_count": 1,
   "id": "d34b5163",
   "metadata": {},
   "outputs": [],
   "source": [
    "import csv"
   ]
  },
  {
   "cell_type": "code",
   "execution_count": 12,
   "id": "337083b5",
   "metadata": {},
   "outputs": [],
   "source": [
    "h=['ID','Name','City','Contact']\n",
    "r=[[1,'om','gokul',9998887776],[2,'sai','mathura',8887776665],[3,'ram','ayodhya',9090909090],[4,'radhe','vrundavan',8908908908],[5,'krishna','dwarika',9090890908]]"
   ]
  },
  {
   "cell_type": "code",
   "execution_count": 14,
   "id": "ec62691e",
   "metadata": {},
   "outputs": [
    {
     "name": "stdout",
     "output_type": "stream",
     "text": [
      "Enter ID:6\n",
      "Enter Name:shiv\n",
      "Enter City:surat\n",
      "Enter Contact Number:9090908080\n",
      "Enter ID:7\n",
      "Enter Name:parvati\n",
      "Enter City:surat\n",
      "Enter Contact Number:8080808080\n",
      "Enter ID:8\n",
      "Enter Name:ganesh\n",
      "Enter City:bardoli\n",
      "Enter Contact Number:7080906050\n",
      "Enter ID:8\n",
      "Enter Name:riddhi\n",
      "Enter City:morbi\n",
      "Enter Contact Number:9089786756\n",
      "Enter ID:10\n",
      "Enter Name:siddhi\n",
      "Enter City:morbi\n",
      "Enter Contact Number:9876543210\n"
     ]
    }
   ],
   "source": [
    "l=[]\n",
    "for i in range(5):\n",
    "    ID=int(input(\"Enter ID:\"))\n",
    "    Name=input(\"Enter Name:\")\n",
    "    City=input(\"Enter City:\")\n",
    "    Contact=int(input(\"Enter Contact Number:\"))\n",
    "    s=[ID,Name,City,Contact]\n",
    "    l.append(s)"
   ]
  },
  {
   "cell_type": "code",
   "execution_count": 15,
   "id": "89dc262a",
   "metadata": {},
   "outputs": [],
   "source": [
    "with open('c:\\\\sqlite3\\\\22bca35\\\\student.csv','w',newline='') as f:\n",
    "    w=csv.writer(f)\n",
    "    w.writerow(h)\n",
    "    w.writerows(r)\n",
    "    w.writerows(l)"
   ]
  },
  {
   "cell_type": "code",
   "execution_count": 16,
   "id": "66846116",
   "metadata": {},
   "outputs": [
    {
     "name": "stdout",
     "output_type": "stream",
     "text": [
      "['ID', 'Name', 'City', 'Contact']\n",
      "['1', 'om', 'gokul', '9998887776']\n",
      "['2', 'sai', 'mathura', '8887776665']\n",
      "['3', 'ram', 'ayodhya', '9090909090']\n",
      "['4', 'radhe', 'vrundavan', '8908908908']\n",
      "['5', 'krishna', 'dwarika', '9090890908']\n",
      "['6', 'shiv', 'surat', '9090908080']\n",
      "['7', 'parvati', 'surat', '8080808080']\n",
      "['8', 'ganesh', 'bardoli', '7080906050']\n",
      "['8', 'riddhi', 'morbi', '9089786756']\n",
      "['10', 'siddhi', 'morbi', '9876543210']\n"
     ]
    }
   ],
   "source": [
    "with open('c:\\\\sqlite3\\\\22bca35\\\\student.csv','r') as f:\n",
    "    w=csv.reader(f)\n",
    "    for i in w:\n",
    "        print(i)"
   ]
  }
 ],
 "metadata": {
  "kernelspec": {
   "display_name": "Python 3 (ipykernel)",
   "language": "python",
   "name": "python3"
  },
  "language_info": {
   "codemirror_mode": {
    "name": "ipython",
    "version": 3
   },
   "file_extension": ".py",
   "mimetype": "text/x-python",
   "name": "python",
   "nbconvert_exporter": "python",
   "pygments_lexer": "ipython3",
   "version": "3.9.6"
  }
 },
 "nbformat": 4,
 "nbformat_minor": 5
}
